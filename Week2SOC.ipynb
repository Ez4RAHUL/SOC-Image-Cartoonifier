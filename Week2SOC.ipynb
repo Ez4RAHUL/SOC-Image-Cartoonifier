{
  "nbformat": 4,
  "nbformat_minor": 0,
  "metadata": {
    "colab": {
      "provenance": [],
      "authorship_tag": "ABX9TyMsw5NIWgZJpjsQKaMka9e5",
      "include_colab_link": true
    },
    "kernelspec": {
      "name": "python3",
      "display_name": "Python 3"
    },
    "language_info": {
      "name": "python"
    }
  },
  "cells": [
    {
      "cell_type": "markdown",
      "metadata": {
        "id": "view-in-github",
        "colab_type": "text"
      },
      "source": [
        "<a href=\"https://colab.research.google.com/github/Ez4RAHUL/SOC-Image-Cartoonifier/blob/master/Week2SOC.ipynb\" target=\"_parent\"><img src=\"https://colab.research.google.com/assets/colab-badge.svg\" alt=\"Open In Colab\"/></a>"
      ]
    },
    {
      "cell_type": "code",
      "source": [
        "import numpy as np\n",
        "import pandas as pd\n",
        "import matplotlib.pyplot as plt\n",
        "from sklearn.linear_model import LinearRegression\n"
      ],
      "metadata": {
        "id": "Dtt5w4sS0q8Z"
      },
      "execution_count": null,
      "outputs": []
    },
    {
      "cell_type": "code",
      "source": [
        "data = {'YearsExperience': [1, 3, 5], 'Salary': [300, 480,570]}\n",
        "df = pd.DataFrame(data)\n",
        "\n",
        "#Preparing the data for plotting\n",
        "x = df['YearsExperience']\n",
        "y = df['Salary']\n",
        "\n",
        "#Scatter plotting the dataset\n",
        "plt.scatter(x, y, color='blue', label='Actual salaries')\n",
        "plt.xlabel('Years of Experience')\n",
        "plt.ylabel('Salary')\n",
        "plt.title('Years of Experience vs Salary')\n",
        "plt.legend()\n",
        "plt.show()"
      ],
      "metadata": {
        "colab": {
          "base_uri": "https://localhost:8080/",
          "height": 472
        },
        "id": "P7ipjeldqYvc",
        "outputId": "e584f6bf-d8fd-4e1f-daa8-e84fa4419883"
      },
      "execution_count": null,
      "outputs": [
        {
          "output_type": "display_data",
          "data": {
            "text/plain": [
              "<Figure size 640x480 with 1 Axes>"
            ],
            "image/png": "[encoded data removed]"
          },
          "metadata": {}
        }
      ]
    },
    {
      "cell_type": "code",
      "source": [
        "def compute_cost(x, y, w, b):\n",
        "    m = len(x)\n",
        "    total_cost = 0\n",
        "\n",
        "    for i in range(m):\n",
        "        prediction = w * x[i] + b  # Predicted salary\n",
        "        error = prediction - y[i]  # Error for the i-th data point\n",
        "        total_cost += error ** 2  # Squared error\n",
        "    total_cost = total_cost / (2 * m)  # Mean squared error\n",
        "    return total_cost\n",
        "\n",
        "x = [1, 3, 5]\n",
        "y = [300, 480, 570]\n",
        "w = 200\n",
        "b = 100\n",
        "\n",
        "cost = compute_cost(x, y, w, b)\n",
        "print(cost)"
      ],
      "metadata": {
        "id": "nfoVBIOlrsrh",
        "colab": {
          "base_uri": "https://localhost:8080/"
        },
        "outputId": "ecc1cb88-a832-40bc-ccc5-b29debbcf2e3"
      },
      "execution_count": 6,
      "outputs": [
        {
          "output_type": "stream",
          "name": "stdout",
          "text": [
            "54883.333333333336\n"
          ]
        }
      ]
    },
    {
      "cell_type": "code",
      "source": [
        "def compute_gradient(x, y, w, b):\n",
        "    m = len(x)\n",
        "    dJ_dw = 0\n",
        "    dJ_db = 0\n",
        "    for i in range(m):\n",
        "        prediction = w * x[i] + b  # Predicted salary\n",
        "        error = prediction - y[i]  # Error for the i-th data point\n",
        "        dJ_dw += error * x[i]\n",
        "        dJ_db += error\n",
        "\n",
        "    dJ_dw = dJ_dw / m\n",
        "    dJ_db = dJ_db / m\n",
        "    return dJ_dw, dJ_db\n",
        "\n",
        "x = [1, 3, 5]\n",
        "y = [300, 480, 570]\n",
        "w = 200\n",
        "b = 100\n",
        "gradients = compute_gradient(x, y, w, b)\n",
        "gradients"
      ],
      "metadata": {
        "colab": {
          "base_uri": "https://localhost:8080/"
        },
        "id": "r5VlUmglxHsZ",
        "outputId": "947a1845-c15c-4e06-812c-d15e606b01ff"
      },
      "execution_count": 9,
      "outputs": [
        {
          "output_type": "execute_result",
          "data": {
            "text/plain": [
              "(1103.3333333333333, 250.0)"
            ]
          },
          "metadata": {},
          "execution_count": 9
        }
      ]
    },
    {
      "cell_type": "code",
      "source": [
        "def compute_gradient_descent(x, y, w_init, b_init, alpha, num_iterations):\n",
        "    w = w_init\n",
        "    b = b_init\n",
        "    cost_history = []\n",
        "\n",
        "    for i in range(num_iterations):\n",
        "        dJ_dw, dJ_db = compute_gradient(x, y, w, b)\n",
        "        w -= alpha * dJ_dw\n",
        "        b -= alpha * dJ_db\n",
        "\n",
        "        cost = compute_cost(x, y, w, b)\n",
        "        cost_history.append(cost)\n",
        "\n",
        "        # Optionally, print cost every 1000 iterations\n",
        "        if i % 1000 == 0:\n",
        "            print(f\"Iteration {i}: Cost = {cost}, w = {w}, b = {b}\")\n",
        "\n",
        "    # return w, b, cost_history\n",
        "\n",
        "x = [1, 3, 5]\n",
        "y = [300, 480,570]\n",
        "w = 200\n",
        "b = 100\n",
        "w_init = 0\n",
        "b_init = 0\n",
        "num_iterations = 10000\n",
        "alpha = 0.01\n",
        "result = compute_gradient_descent(x, y, w_init, b_init, alpha, num_iterations)\n",
        "result"
      ],
      "metadata": {
        "colab": {
          "base_uri": "https://localhost:8080/"
        },
        "id": "XixZ67_exYk1",
        "outputId": "8a4f2b28-92f2-4ef1-d3bf-d536365f5205"
      },
      "execution_count": 11,
      "outputs": [
        {
          "output_type": "stream",
          "name": "stdout",
          "text": [
            "Iteration 0: Cost = 83698.2, w = 15.3, b = 4.5\n",
            "Iteration 1000: Cost = 297.3963252646766, w = 74.08910452072907, b = 222.34604974728185\n",
            "Iteration 2000: Cost = 225.9946425088937, w = 68.27232775705049, b = 244.55163366000275\n",
            "Iteration 3000: Cost = 225.01366524774372, w = 67.59052674190163, b = 247.1544135617867\n",
            "Iteration 4000: Cost = 225.00018774483746, w = 67.51061089793092, b = 247.45949282670335\n",
            "Iteration 5000: Cost = 225.00000257939914, w = 67.50124373364753, b = 247.49525203854353\n",
            "Iteration 6000: Cost = 225.00000003543826, w = 67.50014578157251, b = 247.4994434778791\n",
            "Iteration 7000: Cost = 225.0000000004869, w = 67.50001708747442, b = 247.49993476845296\n",
            "Iteration 8000: Cost = 225.0000000000067, w = 67.50000200287161, b = 247.49999235402424\n",
            "Iteration 9000: Cost = 225.00000000000009, w = 67.50000023476233, b = 247.49999910379321\n"
          ]
        }
      ]
    }
  ]
}